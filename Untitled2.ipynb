{
  "cells": [
    {
      "cell_type": "markdown",
      "metadata": {
        "colab_type": "text",
        "id": "view-in-github"
      },
      "source": [
        "<a href=\"https://colab.research.google.com/github/MohamedAliSmk/StockMarketProject/blob/master/Untitled2.ipynb\" target=\"_parent\"><img src=\"https://colab.research.google.com/assets/colab-badge.svg\" alt=\"Open In Colab\"/></a>"
      ]
    },
    {
      "cell_type": "code",
      "execution_count": null,
      "metadata": {
        "id": "he10XViJJEnO"
      },
      "outputs": [],
      "source": [
        "import numpy as np\n",
        "import pandas as pd\n",
        "\n",
        "import os\n",
        "import matplotlib.pyplot as plt\n",
        "import pandas_datareader as web\n",
        "import datetime as dt\n",
        "\n",
        "from sklearn.preprocessing import MinMaxScaler\n",
        "from tensorflow.keras.models import Sequential\n",
        "from tensorflow.keras.layers import Dense, Dropout, LSTM\n",
        "from tensorflow.keras.callbacks import ModelCheckpoint, EarlyStopping"
      ]
    },
    {
      "cell_type": "code",
      "execution_count": null,
      "metadata": {
        "id": "UAjSaIsnKOfK"
      },
      "outputs": [],
      "source": [
        "df = pd.read_csv('/content/preprocessed_CAC40.csv', parse_dates=['Date'])"
      ]
    },
    {
      "cell_type": "code",
      "execution_count": null,
      "metadata": {
        "id": "ZBzkOr4pOdxY"
      },
      "outputs": [],
      "source": [
        "def load_data(company, start, end):\n",
        "    dataframe = df.copy()\n",
        "    dataframe = dataframe.loc[dataframe.Name == company, :]\n",
        "    dataframe = dataframe.loc[(dataframe['Date'] > start) & (dataframe['Date'] < end), :]\n",
        "    dataframe = dataframe.rename(columns = {'Closing_Price': 'Close'})\n",
        "    return dataframe"
      ]
    },
    {
      "cell_type": "code",
      "execution_count": null,
      "metadata": {
        "id": "ep0CtSAgOwKy"
      },
      "outputs": [],
      "source": [
        "COMPANY = 'Air Liquide'\n",
        "START_DATE = dt.datetime(2015,1,1)\n",
        "END_DATE = dt.datetime(2020,1,1)\n",
        "\n",
        "START_DATE_TEST = END_DATE"
      ]
    },
    {
      "cell_type": "code",
      "execution_count": null,
      "metadata": {
        "id": "nUAaPwSiO3MW"
      },
      "outputs": [],
      "source": [
        "data = load_data(company = COMPANY,\n",
        "                 start = START_DATE,\n",
        "                 end = END_DATE)"
      ]
    },
    {
      "cell_type": "code",
      "execution_count": null,
      "metadata": {
        "id": "Pu_u_uhwO6pL"
      },
      "outputs": [],
      "source": [
        "# Normalize data\n",
        "scaler = MinMaxScaler(feature_range=(0,1))\n",
        "scaled_data = scaler.fit_transform(data['Close'].values.reshape(-1,1))"
      ]
    },
    {
      "cell_type": "code",
      "execution_count": null,
      "metadata": {
        "id": "P6BFzgKFPDBr"
      },
      "outputs": [],
      "source": [
        "# how many days do i want to base my predictions on ?\n",
        "prediction_days = 60\n",
        "\n",
        "x_train = []\n",
        "y_train = []\n",
        "\n",
        "for x in range(prediction_days, len(scaled_data)):\n",
        "    x_train.append(scaled_data[x - prediction_days:x, 0])\n",
        "    y_train.append(scaled_data[x, 0])\n",
        "    \n",
        "x_train, y_train = np.array(x_train), np.array(y_train)\n",
        "x_train = np.reshape(x_train, (x_train.shape[0], x_train.shape[1], 1))"
      ]
    },
    {
      "cell_type": "code",
      "execution_count": null,
      "metadata": {
        "id": "uwP4uFzwPx3p"
      },
      "outputs": [],
      "source": [
        "def LSTM_model():\n",
        "    \n",
        "    model = Sequential()\n",
        "    \n",
        "    model.add(LSTM(units = 50, return_sequences = True, input_shape = (x_train.shape[1],1)))\n",
        "    model.add(Dropout(0.2))\n",
        "\n",
        "    model.add(LSTM(units = 50, return_sequences = True))\n",
        "    model.add(Dropout(0.2))\n",
        "\n",
        "    model.add(LSTM(units = 50))\n",
        "    model.add(Dropout(0.2))\n",
        "    \n",
        "    model.add(Dense(units=1))\n",
        "    \n",
        "    return model"
      ]
    },
    {
      "cell_type": "code",
      "execution_count": null,
      "metadata": {
        "colab": {
          "base_uri": "https://localhost:8080/"
        },
        "id": "ejs1DfpyP42V",
        "outputId": "5c6e0956-80d2-4f59-824b-105cd6dbd786"
      },
      "outputs": [
        {
          "name": "stdout",
          "output_type": "stream",
          "text": [
            "Model: \"sequential\"\n",
            "_________________________________________________________________\n",
            " Layer (type)                Output Shape              Param #   \n",
            "=================================================================\n",
            " lstm (LSTM)                 (None, 60, 50)            10400     \n",
            "                                                                 \n",
            " dropout (Dropout)           (None, 60, 50)            0         \n",
            "                                                                 \n",
            " lstm_1 (LSTM)               (None, 60, 50)            20200     \n",
            "                                                                 \n",
            " dropout_1 (Dropout)         (None, 60, 50)            0         \n",
            "                                                                 \n",
            " lstm_2 (LSTM)               (None, 50)                20200     \n",
            "                                                                 \n",
            " dropout_2 (Dropout)         (None, 50)                0         \n",
            "                                                                 \n",
            " dense (Dense)               (None, 1)                 51        \n",
            "                                                                 \n",
            "=================================================================\n",
            "Total params: 50,851\n",
            "Trainable params: 50,851\n",
            "Non-trainable params: 0\n",
            "_________________________________________________________________\n"
          ]
        }
      ],
      "source": [
        "model = LSTM_model()\n",
        "model.summary()\n",
        "model.compile(optimizer='adam', \n",
        "              loss='mean_squared_error')"
      ]
    },
    {
      "cell_type": "code",
      "execution_count": null,
      "metadata": {
        "colab": {
          "base_uri": "https://localhost:8080/"
        },
        "id": "IHIAO_ewQFTW",
        "outputId": "fc2f37cb-1af7-4cec-8c5f-450575e07782"
      },
      "outputs": [
        {
          "name": "stdout",
          "output_type": "stream",
          "text": [
            "Epoch 1/25\n",
            "38/38 [==============================] - ETA: 0s - loss: 0.0418"
          ]
        },
        {
          "name": "stderr",
          "output_type": "stream",
          "text": [
            "WARNING:tensorflow:Can save best model only with val_loss available, skipping.\n"
          ]
        },
        {
          "name": "stdout",
          "output_type": "stream",
          "text": [
            "\b\b\b\b\b\b\b\b\b\b\b\b\b\b\b\b\b\b\b\b\b\b\b\b\b\b\b\b\b\b\b\b\b\b\b\b\b\b\b\b\b\b\b\b\b\b\b\b\b\b\b\b\b\b\b\b\b\b\b\b\b\b\b\r38/38 [==============================] - 9s 81ms/step - loss: 0.0418\n",
            "Epoch 2/25\n",
            "38/38 [==============================] - ETA: 0s - loss: 0.0107"
          ]
        },
        {
          "name": "stderr",
          "output_type": "stream",
          "text": [
            "WARNING:tensorflow:Can save best model only with val_loss available, skipping.\n"
          ]
        },
        {
          "name": "stdout",
          "output_type": "stream",
          "text": [
            "\b\b\b\b\b\b\b\b\b\b\b\b\b\b\b\b\b\b\b\b\b\b\b\b\b\b\b\b\b\b\b\b\b\b\b\b\b\b\b\b\b\b\b\b\b\b\b\b\b\b\b\b\b\b\b\b\b\b\b\b\b\b\b\r38/38 [==============================] - 3s 85ms/step - loss: 0.0107\n",
            "Epoch 3/25\n",
            "38/38 [==============================] - ETA: 0s - loss: 0.0095"
          ]
        },
        {
          "name": "stderr",
          "output_type": "stream",
          "text": [
            "WARNING:tensorflow:Can save best model only with val_loss available, skipping.\n"
          ]
        },
        {
          "name": "stdout",
          "output_type": "stream",
          "text": [
            "\b\b\b\b\b\b\b\b\b\b\b\b\b\b\b\b\b\b\b\b\b\b\b\b\b\b\b\b\b\b\b\b\b\b\b\b\b\b\b\b\b\b\b\b\b\b\b\b\b\b\b\b\b\b\b\b\b\b\b\b\b\b\b\r38/38 [==============================] - 3s 89ms/step - loss: 0.0095\n",
            "Epoch 4/25\n",
            "38/38 [==============================] - ETA: 0s - loss: 0.0093"
          ]
        },
        {
          "name": "stderr",
          "output_type": "stream",
          "text": [
            "WARNING:tensorflow:Can save best model only with val_loss available, skipping.\n"
          ]
        },
        {
          "name": "stdout",
          "output_type": "stream",
          "text": [
            "\b\b\b\b\b\b\b\b\b\b\b\b\b\b\b\b\b\b\b\b\b\b\b\b\b\b\b\b\b\b\b\b\b\b\b\b\b\b\b\b\b\b\b\b\b\b\b\b\b\b\b\b\b\b\b\b\b\b\b\b\b\b\b\r38/38 [==============================] - 3s 80ms/step - loss: 0.0093\n",
            "Epoch 5/25\n",
            "38/38 [==============================] - ETA: 0s - loss: 0.0081"
          ]
        },
        {
          "name": "stderr",
          "output_type": "stream",
          "text": [
            "WARNING:tensorflow:Can save best model only with val_loss available, skipping.\n"
          ]
        },
        {
          "name": "stdout",
          "output_type": "stream",
          "text": [
            "\b\b\b\b\b\b\b\b\b\b\b\b\b\b\b\b\b\b\b\b\b\b\b\b\b\b\b\b\b\b\b\b\b\b\b\b\b\b\b\b\b\b\b\b\b\b\b\b\b\b\b\b\b\b\b\b\b\b\b\b\b\b\b\r38/38 [==============================] - 3s 81ms/step - loss: 0.0081\n",
            "Epoch 6/25\n",
            "38/38 [==============================] - ETA: 0s - loss: 0.0078"
          ]
        },
        {
          "name": "stderr",
          "output_type": "stream",
          "text": [
            "WARNING:tensorflow:Can save best model only with val_loss available, skipping.\n"
          ]
        },
        {
          "name": "stdout",
          "output_type": "stream",
          "text": [
            "\b\b\b\b\b\b\b\b\b\b\b\b\b\b\b\b\b\b\b\b\b\b\b\b\b\b\b\b\b\b\b\b\b\b\b\b\b\b\b\b\b\b\b\b\b\b\b\b\b\b\b\b\b\b\b\b\b\b\b\b\b\b\b\r38/38 [==============================] - 3s 91ms/step - loss: 0.0078\n",
            "Epoch 7/25\n",
            "38/38 [==============================] - ETA: 0s - loss: 0.0078"
          ]
        },
        {
          "name": "stderr",
          "output_type": "stream",
          "text": [
            "WARNING:tensorflow:Can save best model only with val_loss available, skipping.\n"
          ]
        },
        {
          "name": "stdout",
          "output_type": "stream",
          "text": [
            "\b\b\b\b\b\b\b\b\b\b\b\b\b\b\b\b\b\b\b\b\b\b\b\b\b\b\b\b\b\b\b\b\b\b\b\b\b\b\b\b\b\b\b\b\b\b\b\b\b\b\b\b\b\b\b\b\b\b\b\b\b\b\b\r38/38 [==============================] - 3s 81ms/step - loss: 0.0078\n",
            "Epoch 8/25\n",
            "38/38 [==============================] - ETA: 0s - loss: 0.0078"
          ]
        },
        {
          "name": "stderr",
          "output_type": "stream",
          "text": [
            "WARNING:tensorflow:Can save best model only with val_loss available, skipping.\n"
          ]
        },
        {
          "name": "stdout",
          "output_type": "stream",
          "text": [
            "\b\b\b\b\b\b\b\b\b\b\b\b\b\b\b\b\b\b\b\b\b\b\b\b\b\b\b\b\b\b\b\b\b\b\b\b\b\b\b\b\b\b\b\b\b\b\b\b\b\b\b\b\b\b\b\b\b\b\b\b\b\b\b\r38/38 [==============================] - 3s 82ms/step - loss: 0.0078\n",
            "Epoch 9/25\n",
            "38/38 [==============================] - ETA: 0s - loss: 0.0074"
          ]
        },
        {
          "name": "stderr",
          "output_type": "stream",
          "text": [
            "WARNING:tensorflow:Can save best model only with val_loss available, skipping.\n"
          ]
        },
        {
          "name": "stdout",
          "output_type": "stream",
          "text": [
            "\b\b\b\b\b\b\b\b\b\b\b\b\b\b\b\b\b\b\b\b\b\b\b\b\b\b\b\b\b\b\b\b\b\b\b\b\b\b\b\b\b\b\b\b\b\b\b\b\b\b\b\b\b\b\b\b\b\b\b\b\b\b\b\r38/38 [==============================] - 3s 82ms/step - loss: 0.0074\n",
            "Epoch 10/25\n",
            "38/38 [==============================] - ETA: 0s - loss: 0.0071"
          ]
        },
        {
          "name": "stderr",
          "output_type": "stream",
          "text": [
            "WARNING:tensorflow:Can save best model only with val_loss available, skipping.\n"
          ]
        },
        {
          "name": "stdout",
          "output_type": "stream",
          "text": [
            "\b\b\b\b\b\b\b\b\b\b\b\b\b\b\b\b\b\b\b\b\b\b\b\b\b\b\b\b\b\b\b\b\b\b\b\b\b\b\b\b\b\b\b\b\b\b\b\b\b\b\b\b\b\b\b\b\b\b\b\b\b\b\b\r38/38 [==============================] - 4s 94ms/step - loss: 0.0071\n",
            "Epoch 11/25\n",
            "38/38 [==============================] - ETA: 0s - loss: 0.0070"
          ]
        },
        {
          "name": "stderr",
          "output_type": "stream",
          "text": [
            "WARNING:tensorflow:Can save best model only with val_loss available, skipping.\n"
          ]
        },
        {
          "name": "stdout",
          "output_type": "stream",
          "text": [
            "\b\b\b\b\b\b\b\b\b\b\b\b\b\b\b\b\b\b\b\b\b\b\b\b\b\b\b\b\b\b\b\b\b\b\b\b\b\b\b\b\b\b\b\b\b\b\b\b\b\b\b\b\b\b\b\b\b\b\b\b\b\b\b\r38/38 [==============================] - 3s 81ms/step - loss: 0.0070\n",
            "Epoch 12/25\n",
            "38/38 [==============================] - ETA: 0s - loss: 0.0068"
          ]
        },
        {
          "name": "stderr",
          "output_type": "stream",
          "text": [
            "WARNING:tensorflow:Can save best model only with val_loss available, skipping.\n"
          ]
        },
        {
          "name": "stdout",
          "output_type": "stream",
          "text": [
            "\b\b\b\b\b\b\b\b\b\b\b\b\b\b\b\b\b\b\b\b\b\b\b\b\b\b\b\b\b\b\b\b\b\b\b\b\b\b\b\b\b\b\b\b\b\b\b\b\b\b\b\b\b\b\b\b\b\b\b\b\b\b\b\r38/38 [==============================] - 3s 81ms/step - loss: 0.0068\n",
            "Epoch 13/25\n",
            "38/38 [==============================] - ETA: 0s - loss: 0.0069"
          ]
        },
        {
          "name": "stderr",
          "output_type": "stream",
          "text": [
            "WARNING:tensorflow:Can save best model only with val_loss available, skipping.\n"
          ]
        },
        {
          "name": "stdout",
          "output_type": "stream",
          "text": [
            "\b\b\b\b\b\b\b\b\b\b\b\b\b\b\b\b\b\b\b\b\b\b\b\b\b\b\b\b\b\b\b\b\b\b\b\b\b\b\b\b\b\b\b\b\b\b\b\b\b\b\b\b\b\b\b\b\b\b\b\b\b\b\b\r38/38 [==============================] - 3s 82ms/step - loss: 0.0069\n",
            "Epoch 14/25\n",
            "38/38 [==============================] - ETA: 0s - loss: 0.0064"
          ]
        },
        {
          "name": "stderr",
          "output_type": "stream",
          "text": [
            "WARNING:tensorflow:Can save best model only with val_loss available, skipping.\n"
          ]
        },
        {
          "name": "stdout",
          "output_type": "stream",
          "text": [
            "\b\b\b\b\b\b\b\b\b\b\b\b\b\b\b\b\b\b\b\b\b\b\b\b\b\b\b\b\b\b\b\b\b\b\b\b\b\b\b\b\b\b\b\b\b\b\b\b\b\b\b\b\b\b\b\b\b\b\b\b\b\b\b\r38/38 [==============================] - 4s 92ms/step - loss: 0.0064\n",
            "Epoch 15/25\n",
            "38/38 [==============================] - ETA: 0s - loss: 0.0064"
          ]
        },
        {
          "name": "stderr",
          "output_type": "stream",
          "text": [
            "WARNING:tensorflow:Can save best model only with val_loss available, skipping.\n"
          ]
        },
        {
          "name": "stdout",
          "output_type": "stream",
          "text": [
            "\b\b\b\b\b\b\b\b\b\b\b\b\b\b\b\b\b\b\b\b\b\b\b\b\b\b\b\b\b\b\b\b\b\b\b\b\b\b\b\b\b\b\b\b\b\b\b\b\b\b\b\b\b\b\b\b\b\b\b\b\b\b\b\r38/38 [==============================] - 3s 82ms/step - loss: 0.0064\n",
            "Epoch 16/25\n",
            "38/38 [==============================] - ETA: 0s - loss: 0.0071"
          ]
        },
        {
          "name": "stderr",
          "output_type": "stream",
          "text": [
            "WARNING:tensorflow:Can save best model only with val_loss available, skipping.\n"
          ]
        },
        {
          "name": "stdout",
          "output_type": "stream",
          "text": [
            "\b\b\b\b\b\b\b\b\b\b\b\b\b\b\b\b\b\b\b\b\b\b\b\b\b\b\b\b\b\b\b\b\b\b\b\b\b\b\b\b\b\b\b\b\b\b\b\b\b\b\b\b\b\b\b\b\b\b\b\b\b\b\b\r38/38 [==============================] - 3s 81ms/step - loss: 0.0071\n",
            "Epoch 17/25\n",
            "38/38 [==============================] - ETA: 0s - loss: 0.0057"
          ]
        },
        {
          "name": "stderr",
          "output_type": "stream",
          "text": [
            "WARNING:tensorflow:Can save best model only with val_loss available, skipping.\n"
          ]
        },
        {
          "name": "stdout",
          "output_type": "stream",
          "text": [
            "\b\b\b\b\b\b\b\b\b\b\b\b\b\b\b\b\b\b\b\b\b\b\b\b\b\b\b\b\b\b\b\b\b\b\b\b\b\b\b\b\b\b\b\b\b\b\b\b\b\b\b\b\b\b\b\b\b\b\b\b\b\b\b\r38/38 [==============================] - 3s 90ms/step - loss: 0.0057\n",
            "Epoch 18/25\n",
            "38/38 [==============================] - ETA: 0s - loss: 0.0058"
          ]
        },
        {
          "name": "stderr",
          "output_type": "stream",
          "text": [
            "WARNING:tensorflow:Can save best model only with val_loss available, skipping.\n"
          ]
        },
        {
          "name": "stdout",
          "output_type": "stream",
          "text": [
            "\b\b\b\b\b\b\b\b\b\b\b\b\b\b\b\b\b\b\b\b\b\b\b\b\b\b\b\b\b\b\b\b\b\b\b\b\b\b\b\b\b\b\b\b\b\b\b\b\b\b\b\b\b\b\b\b\b\b\b\b\b\b\b\r38/38 [==============================] - 3s 86ms/step - loss: 0.0058\n",
            "Epoch 19/25\n",
            "38/38 [==============================] - ETA: 0s - loss: 0.0056"
          ]
        },
        {
          "name": "stderr",
          "output_type": "stream",
          "text": [
            "WARNING:tensorflow:Can save best model only with val_loss available, skipping.\n"
          ]
        },
        {
          "name": "stdout",
          "output_type": "stream",
          "text": [
            "\b\b\b\b\b\b\b\b\b\b\b\b\b\b\b\b\b\b\b\b\b\b\b\b\b\b\b\b\b\b\b\b\b\b\b\b\b\b\b\b\b\b\b\b\b\b\b\b\b\b\b\b\b\b\b\b\b\b\b\b\b\b\b\r38/38 [==============================] - 3s 82ms/step - loss: 0.0056\n",
            "Epoch 20/25\n",
            "38/38 [==============================] - ETA: 0s - loss: 0.0060"
          ]
        },
        {
          "name": "stderr",
          "output_type": "stream",
          "text": [
            "WARNING:tensorflow:Can save best model only with val_loss available, skipping.\n"
          ]
        },
        {
          "name": "stdout",
          "output_type": "stream",
          "text": [
            "\b\b\b\b\b\b\b\b\b\b\b\b\b\b\b\b\b\b\b\b\b\b\b\b\b\b\b\b\b\b\b\b\b\b\b\b\b\b\b\b\b\b\b\b\b\b\b\b\b\b\b\b\b\b\b\b\b\b\b\b\b\b\b\r38/38 [==============================] - 3s 84ms/step - loss: 0.0060\n",
            "Epoch 21/25\n",
            "38/38 [==============================] - ETA: 0s - loss: 0.0057"
          ]
        },
        {
          "name": "stderr",
          "output_type": "stream",
          "text": [
            "WARNING:tensorflow:Can save best model only with val_loss available, skipping.\n"
          ]
        },
        {
          "name": "stdout",
          "output_type": "stream",
          "text": [
            "\b\b\b\b\b\b\b\b\b\b\b\b\b\b\b\b\b\b\b\b\b\b\b\b\b\b\b\b\b\b\b\b\b\b\b\b\b\b\b\b\b\b\b\b\b\b\b\b\b\b\b\b\b\b\b\b\b\b\b\b\b\b\b\r38/38 [==============================] - 4s 93ms/step - loss: 0.0057\n",
            "Epoch 22/25\n",
            "38/38 [==============================] - ETA: 0s - loss: 0.0051"
          ]
        },
        {
          "name": "stderr",
          "output_type": "stream",
          "text": [
            "WARNING:tensorflow:Can save best model only with val_loss available, skipping.\n"
          ]
        },
        {
          "name": "stdout",
          "output_type": "stream",
          "text": [
            "\b\b\b\b\b\b\b\b\b\b\b\b\b\b\b\b\b\b\b\b\b\b\b\b\b\b\b\b\b\b\b\b\b\b\b\b\b\b\b\b\b\b\b\b\b\b\b\b\b\b\b\b\b\b\b\b\b\b\b\b\b\b\b\r38/38 [==============================] - 3s 81ms/step - loss: 0.0051\n",
            "Epoch 23/25\n",
            "38/38 [==============================] - ETA: 0s - loss: 0.0051"
          ]
        },
        {
          "name": "stderr",
          "output_type": "stream",
          "text": [
            "WARNING:tensorflow:Can save best model only with val_loss available, skipping.\n"
          ]
        },
        {
          "name": "stdout",
          "output_type": "stream",
          "text": [
            "\b\b\b\b\b\b\b\b\b\b\b\b\b\b\b\b\b\b\b\b\b\b\b\b\b\b\b\b\b\b\b\b\b\b\b\b\b\b\b\b\b\b\b\b\b\b\b\b\b\b\b\b\b\b\b\b\b\b\b\b\b\b\b\r38/38 [==============================] - 3s 83ms/step - loss: 0.0051\n",
            "Epoch 24/25\n",
            "38/38 [==============================] - ETA: 0s - loss: 0.0050"
          ]
        },
        {
          "name": "stderr",
          "output_type": "stream",
          "text": [
            "WARNING:tensorflow:Can save best model only with val_loss available, skipping.\n"
          ]
        },
        {
          "name": "stdout",
          "output_type": "stream",
          "text": [
            "\b\b\b\b\b\b\b\b\b\b\b\b\b\b\b\b\b\b\b\b\b\b\b\b\b\b\b\b\b\b\b\b\b\b\b\b\b\b\b\b\b\b\b\b\b\b\b\b\b\b\b\b\b\b\b\b\b\b\b\b\b\b\b\r38/38 [==============================] - 3s 84ms/step - loss: 0.0050\n",
            "Epoch 25/25\n",
            "38/38 [==============================] - ETA: 0s - loss: 0.0049"
          ]
        },
        {
          "name": "stderr",
          "output_type": "stream",
          "text": [
            "WARNING:tensorflow:Can save best model only with val_loss available, skipping.\n"
          ]
        },
        {
          "name": "stdout",
          "output_type": "stream",
          "text": [
            "\b\b\b\b\b\b\b\b\b\b\b\b\b\b\b\b\b\b\b\b\b\b\b\b\b\b\b\b\b\b\b\b\b\b\b\b\b\b\b\b\b\b\b\b\b\b\b\b\b\b\b\b\b\b\b\b\b\b\b\b\b\b\b\r38/38 [==============================] - 4s 93ms/step - loss: 0.0049\n"
          ]
        },
        {
          "data": {
            "text/plain": [
              "<keras.callbacks.History at 0x7fe910698d30>"
            ]
          },
          "execution_count": 18,
          "metadata": {},
          "output_type": "execute_result"
        }
      ],
      "source": [
        "# Define callbacks\n",
        "\n",
        "# Save weights only for best model\n",
        "checkpointer = ModelCheckpoint(filepath = 'weights_best.hdf5', \n",
        "                               verbose = 2, \n",
        "                               save_best_only = True)\n",
        "\n",
        "model.fit(x_train, \n",
        "          y_train, \n",
        "          epochs=25, \n",
        "          batch_size = 32,\n",
        "          callbacks = [checkpointer])"
      ]
    },
    {
      "cell_type": "code",
      "execution_count": null,
      "metadata": {
        "id": "9izL6KJaQkwE"
      },
      "outputs": [],
      "source": [
        "# test model accuracy on existing data\n",
        "test_data = load_data(company = COMPANY,\n",
        "                      start = START_DATE_TEST,\n",
        "                      end = dt.datetime.now())\n",
        "\n",
        "actual_prices = test_data['Close'].values\n",
        "\n",
        "total_dataset = pd.concat((data['Close'], test_data['Close']), axis=0)\n",
        "\n",
        "model_inputs = total_dataset[len(total_dataset) - len(test_data) - prediction_days:].values\n",
        "model_inputs = model_inputs.reshape(-1,1)\n",
        "model_inputs = scaler.transform(model_inputs)"
      ]
    },
    {
      "cell_type": "code",
      "execution_count": null,
      "metadata": {
        "colab": {
          "base_uri": "https://localhost:8080/"
        },
        "id": "3ZhwE9U0QxDq",
        "outputId": "d148a4cb-1cc9-433a-d9ef-e4eb1963325e"
      },
      "outputs": [
        {
          "name": "stdout",
          "output_type": "stream",
          "text": [
            "3/3 [==============================] - 1s 18ms/step\n"
          ]
        }
      ],
      "source": [
        "x_test = []\n",
        "for x in range(prediction_days, len(model_inputs)):\n",
        "    x_test.append(model_inputs[x-prediction_days:x, 0])\n",
        "\n",
        "x_test = np.array(x_test)\n",
        "x_test = np.reshape(x_test, (x_test.shape[0], x_test.shape[1] ,1))\n",
        "\n",
        "predicted_prices = model.predict(x_test)\n",
        "predicted_prices = scaler.inverse_transform(predicted_prices)"
      ]
    },
    {
      "cell_type": "code",
      "execution_count": null,
      "metadata": {
        "colab": {
          "base_uri": "https://localhost:8080/",
          "height": 295
        },
        "id": "RFsiY2XcQ06m",
        "outputId": "11f789e5-b161-46c8-876b-8922784c4c3d"
      },
      "outputs": [
        {
          "data": {
            "image/png": "[encoded data removed]",
            "text/plain": [
              "<Figure size 432x288 with 1 Axes>"
            ]
          },
          "metadata": {
            "needs_background": "light"
          },
          "output_type": "display_data"
        }
      ],
      "source": [
        "plt.plot(actual_prices, color='black', label=f\"Actual {COMPANY} price\")\n",
        "plt.plot(predicted_prices, color= 'green', label=f\"predicted {COMPANY} price\")\n",
        "plt.title(f\"{COMPANY} share price\")\n",
        "plt.xlabel(\"time\")\n",
        "plt.ylabel(f\"{COMPANY} share price\")\n",
        "plt.legend()\n",
        "plt.show()"
      ]
    },
    {
      "cell_type": "code",
      "execution_count": null,
      "metadata": {
        "id": "4v-RBizYRASC"
      },
      "outputs": [],
      "source": [
        "# predicting next day\n",
        "real_data = [model_inputs[len(model_inputs)+1 - prediction_days:len(model_inputs+1),0]]\n",
        "real_data = np.array(real_data)\n",
        "real_data = np.reshape(real_data, (real_data.shape[0], real_data.shape[1], 1))"
      ]
    },
    {
      "cell_type": "code",
      "execution_count": null,
      "metadata": {
        "colab": {
          "base_uri": "https://localhost:8080/"
        },
        "id": "KlS2zEEkREwZ",
        "outputId": "77414e59-5873-488d-9d53-02d61d89d6a7"
      },
      "outputs": [
        {
          "name": "stdout",
          "output_type": "stream",
          "text": [
            "1/1 [==============================] - 0s 29ms/step\n",
            "prediction: [[39.803333]]\n"
          ]
        }
      ],
      "source": [
        "prediction = model.predict(real_data)\n",
        "prediction = scaler.inverse_transform(prediction)\n",
        "print(f\"prediction: {prediction}\")"
      ]
    },
    {
      "cell_type": "code",
      "execution_count": 2,
      "metadata": {},
      "outputs": [
        {
          "name": "stdout",
          "output_type": "stream",
          "text": [
            "{'address1': '1600 Amphitheatre Parkway', 'city': 'Mountain View', 'state': 'CA', 'zip': '94043', 'country': 'United States', 'phone': '650 253 0000', 'website': 'https://www.abc.xyz', 'industry': 'Internet Content & Information', 'industryDisp': 'Internet Content & Information', 'sector': 'Communication Services', 'longBusinessSummary': 'Alphabet Inc. offers various products and platforms in the United States, Europe, the Middle East, Africa, the Asia-Pacific, Canada, and Latin America. It operates through Google Services, Google Cloud, and Other Bets segments. The Google Services segment provides products and services, including ads, Android, Chrome, hardware, Gmail, Google Drive, Google Maps, Google Photos, Google Play, Search, and YouTube. It is also involved in the sale of apps and in-app purchases and digital content in the Google Play store; and Fitbit wearable devices, Google Nest home products, Pixel phones, and other devices, as well as in the provision of YouTube non-advertising services. The Google Cloud segment offers infrastructure, cybersecurity, data, analytics, AI, and machine learning, and other services; Google Workspace that include cloud-based collaboration tools for enterprises, such as Gmail, Docs, Drive, Calendar, and Meet; and other services for enterprise customers. The Other Bets segment sells health technology and internet services. The company was founded in 1998 and is headquartered in Mountain View, California.', 'fullTimeEmployees': 190711, 'companyOfficers': [{'maxAge': 1, 'name': 'Mr. Sundar  Pichai', 'age': 49, 'title': 'CEO & Director', 'yearBorn': 1973, 'fiscalYear': 2022, 'totalPay': 7947461, 'exercisedValue': 39618220, 'unexercisedValue': 0}, {'maxAge': 1, 'name': 'Mr. Lawrence Edward Page', 'age': 49, 'title': 'Co-Founder & Director', 'yearBorn': 1973, 'fiscalYear': 2022, 'totalPay': 1, 'exercisedValue': 0, 'unexercisedValue': 0}, {'maxAge': 1, 'name': 'Mr. Sergey  Brin', 'age': 48, 'title': 'Co-Founder & Director', 'yearBorn': 1974, 'fiscalYear': 2022, 'totalPay': 1, 'exercisedValue': 0, 'unexercisedValue': 0}, {'maxAge': 1, 'name': 'Ms. Ruth M. Porat', 'age': 64, 'title': 'Sr. VP & CFO', 'yearBorn': 1958, 'fiscalYear': 2022, 'totalPay': 1790046, 'exercisedValue': 0, 'unexercisedValue': 0}, {'maxAge': 1, 'name': 'Mr. J. Kent Walker', 'age': 61, 'title': 'Pres of Global Affairs, Chief Legal Officer & Company Sec.', 'yearBorn': 1961, 'fiscalYear': 2022, 'totalPay': 1787541, 'exercisedValue': 0, 'unexercisedValue': 0}, {'maxAge': 1, 'name': 'Dr. Prabhakar  Raghavan', 'age': 61, 'title': 'Sr. VP of Knowledge and Information - Google', 'yearBorn': 1961, 'fiscalYear': 2022, 'totalPay': 1785329, 'exercisedValue': 0, 'unexercisedValue': 0}, {'maxAge': 1, 'name': 'Mr. Philipp  Schindler', 'age': 51, 'title': 'Sr. VP & Chief Bus. Officer of Google', 'yearBorn': 1971, 'fiscalYear': 2022, 'totalPay': 1785814, 'exercisedValue': 0, 'unexercisedValue': 0}, {'maxAge': 1, 'name': \"Ms. Amie Thuener O'Toole\", 'age': 47, 'title': 'Chief Accounting Officer & VP', 'yearBorn': 1975, 'exercisedValue': 0, 'unexercisedValue': 0}, {'maxAge': 1, 'name': 'Ms. Ellen  West', 'title': 'VP of Investor Relations', 'exercisedValue': 0, 'unexercisedValue': 0}, {'maxAge': 1, 'name': 'Ms. Fiona Clare Cicconi', 'age': 56, 'title': 'Chief People Officer', 'yearBorn': 1966, 'exercisedValue': 0, 'unexercisedValue': 0}], 'auditRisk': 8, 'boardRisk': 2, 'compensationRisk': 10, 'shareHolderRightsRisk': 10, 'overallRisk': 10, 'governanceEpochDate': 1685577600, 'compensationAsOfEpochDate': 1672444800, 'maxAge': 86400, 'priceHint': 2, 'previousClose': 123.87, 'open': 122.04, 'dayLow': 121.86, 'dayHigh': 123.436, 'regularMarketPreviousClose': 123.87, 'regularMarketOpen': 122.04, 'regularMarketDayLow': 121.86, 'regularMarketDayHigh': 123.436, 'payoutRatio': 0.0, 'beta': 1.091901, 'trailingPE': 26.97807, 'forwardPE': 19.683199, 'volume': 29573123, 'regularMarketVolume': 29573123, 'averageVolume': 26135553, 'averageVolume10days': 26334620, 'averageDailyVolume10Day': 26334620, 'bid': 0.0, 'ask': 0.0, 'bidSize': 1100, 'askSize': 1000, 'marketCap': 1557347041280, 'fiftyTwoWeekLow': 83.45, 'fiftyTwoWeekHigh': 129.55, 'priceToSalesTrailing12Months': 5.471825, 'fiftyDayAverage': 116.6897, 'twoHundredDayAverage': 102.17638, 'trailingAnnualDividendRate': 0.0, 'trailingAnnualDividendYield': 0.0, 'currency': 'USD', 'enterpriseValue': 1476376002560, 'profitMargins': 0.20584999, 'floatShares': 10959288580, 'sharesOutstanding': 5873999872, 'sharesShort': 35165711, 'sharesShortPriorMonth': 34626603, 'sharesShortPreviousMonthDate': 1682640000, 'dateShortInterest': 1685491200, 'sharesPercentSharesOut': 0.0028, 'heldPercentInsiders': 0.00014999999, 'heldPercentInstitutions': 0.64203, 'shortRatio': 1.25, 'impliedSharesOutstanding': 0, 'bookValue': 20.507, 'priceToBook': 5.998927, 'lastFiscalYearEnd': 1672444800, 'nextFiscalYearEnd': 1703980800, 'mostRecentQuarter': 1680220800, 'earningsQuarterlyGrowth': -0.084, 'netIncomeToCommon': 58587000832, 'trailingEps': 4.56, 'forwardEps': 6.25, 'pegRatio': 1.32, 'lastSplitFactor': '20:1', 'lastSplitDate': 1658102400, 'enterpriseToRevenue': 5.187, 'enterpriseToEbitda': 16.874, '52WeekChange': 0.05485654, 'SandP52WeekChange': 0.11492491, 'exchange': 'NMS', 'quoteType': 'EQUITY', 'symbol': 'GOOG', 'underlyingSymbol': 'GOOG', 'shortName': 'Alphabet Inc.', 'longName': 'Alphabet Inc.', 'firstTradeDateEpochUtc': 1092922200, 'timeZoneFullName': 'America/New_York', 'timeZoneShortName': 'EDT', 'uuid': 'ee8cce8c-2475-31c0-8436-ecdf889cbfbd', 'messageBoardId': 'finmb_29096', 'gmtOffSetMilliseconds': -14400000, 'currentPrice': 123.02, 'targetHighPrice': 145.0, 'targetLowPrice': 120.0, 'targetMeanPrice': 129.44, 'targetMedianPrice': 130.0, 'recommendationMean': 1.5, 'recommendationKey': 'strong_buy', 'numberOfAnalystOpinions': 9, 'totalCash': 115101999104, 'totalCashPerShare': 9.065, 'ebitda': 87495999488, 'totalDebt': 29493000192, 'quickRatio': 2.195, 'currentRatio': 2.353, 'totalRevenue': 284612001792, 'debtToEquity': 11.305, 'revenuePerShare': 21.965, 'returnOnAssets': 0.12415, 'returnOnEquity': 0.22757, 'grossProfits': 156633000000, 'freeCashflow': 55862624256, 'operatingCashflow': 89898000384, 'earningsGrowth': -0.047, 'revenueGrowth': 0.026, 'grossMargins': 0.55302, 'ebitdaMargins': 0.30742002, 'operatingMargins': 0.25355, 'financialCurrency': 'USD', 'trailingPegRatio': 1.5236}\n",
            "{'symbol': 'GOOG', 'current_price': 123.02, 'price_change': '-0.69%', 'company_name': 'Alphabet Inc.', 'company_exchange': 'NMS', 'currency': 'USD', 'industry': 'Internet Content & Information', 'description': 'Alphabet Inc. offers various products and platforms in the United States, Europe, the Middle East, Africa, the Asia-Pacific, Canada, and Latin America. It operates through Google Services, Google Cloud, and Other Bets segments. The Google Services segment provides products and services, including ads, Android, Chrome, hardware, Gmail, Google Drive, Google Maps, Google Photos, Google Play, Search, and YouTube. It is also involved in the sale of apps and in-app purchases and digital content in the Google Play store; and Fitbit wearable devices, Google Nest home products, Pixel phones, and other devices, as well as in the provision of YouTube non-advertising services. The Google Cloud segment offers infrastructure, cybersecurity, data, analytics, AI, and machine learning, and other services; Google Workspace that include cloud-based collaboration tools for enterprises, such as Gmail, Docs, Drive, Calendar, and Meet; and other services for enterprise customers. The Other Bets segment sells health technology and internet services. The company was founded in 1998 and is headquartered in Mountain View, California.', 'website': 'https://www.abc.xyz'}\n"
          ]
        }
      ],
      "source": [
        "import yfinance as yf\n",
        "\n",
        "def yf_Scraper(symbol):\n",
        "    data = yf.Ticker(symbol)\n",
        "    info = data.info\n",
        "    print(info)\n",
        "    # Get stock price and change\n",
        "    current_price = info['currentPrice']\n",
        "    previous_close = info['regularMarketPreviousClose']\n",
        "    price_change = round((current_price - previous_close) / previous_close * 100, 2)\n",
        "    if price_change > 0:\n",
        "        price_change = f'+{price_change}%'\n",
        "    else:\n",
        "        price_change = f'{price_change}%'\n",
        "        \n",
        "    # Get company data\n",
        "    company_name = info['shortName']\n",
        "    company_exchange = info['exchange']\n",
        "    currency = info['financialCurrency']\n",
        "    industry = info['industry']\n",
        "    website = info['website']\n",
        "    description = info['longBusinessSummary']\n",
        "    \n",
        "    # Return data as dictionary\n",
        "    data_dict = {\n",
        "        'symbol': symbol,\n",
        "        'current_price': current_price,\n",
        "        'price_change': price_change,\n",
        "        'company_name': company_name,\n",
        "        'company_exchange': company_exchange,\n",
        "        'currency': currency,\n",
        "        'industry': industry,\n",
        "        'description': description,\n",
        "        'website': website,\n",
        "    }\n",
        "    \n",
        "    return data_dict\n",
        "\n",
        "\n",
        "data=yf_Scraper(\"GOOG\")\n",
        "print(data)"
      ]
    },
    {
      "cell_type": "code",
      "execution_count": 6,
      "metadata": {},
      "outputs": [
        {
          "name": "stdout",
          "output_type": "stream",
          "text": [
            "{'symbol': 'GOOG', 'current_price': 123.02, 'price_change': '-0.69%', 'company_name': 'Alphabet Inc.', 'company_exchange': 'NMS', 'currency': 'USD', 'industry': 'Internet Content & Information', 'description': 'Alphabet Inc. offers various products and platforms in the United States, Europe, the Middle East, Africa, the Asia-Pacific, Canada, and Latin America. It operates through Google Services, Google Cloud, and Other Bets segments. The Google Services segment provides products and services, including ads, Android, Chrome, hardware, Gmail, Google Drive, Google Maps, Google Photos, Google Play, Search, and YouTube. It is also involved in the sale of apps and in-app purchases and digital content in the Google Play store; and Fitbit wearable devices, Google Nest home products, Pixel phones, and other devices, as well as in the provision of YouTube non-advertising services. The Google Cloud segment offers infrastructure, cybersecurity, data, analytics, AI, and machine learning, and other services; Google Workspace that include cloud-based collaboration tools for enterprises, such as Gmail, Docs, Drive, Calendar, and Meet; and other services for enterprise customers. The Other Bets segment sells health technology and internet services. The company was founded in 1998 and is headquartered in Mountain View, California.', 'website': 'https://www.abc.xyz', 'market_cap': 1557347041280, 'price_to_sales': 5.471825, 'trailing_pe': 26.97807, 'forward_pe': 19.683199, 'profit_margins': 0.20584999, 'fifty_day_average': 116.6897, 'two_hundred_day_average': 102.17638, 'book_value': 20.507, 'earnings_quarterly_growth': -0.084, 'net_income_to_common': 58587000832, 'trailing_eps': 4.56, 'forward_eps': 6.25, 'peg_ratio': 1.32, 'total_cash': 115101999104, 'total_debt': 29493000192, 'total_revenue': 284612001792, 'gross_profits': 156633000000, 'free_cashflow': 55862624256, 'operating_cashflow': 89898000384, 'earnings_growth': -0.047, 'revenue_growth': 0.026, 'gross_margins': 0.55302, 'ebitda_margins': 0.30742002, 'operating_margins': 0.25355, 'return_on_assets': 0.12415, 'return_on_equity': 0.22757}\n"
          ]
        }
      ],
      "source": [
        "def yf_Scraper(symbol):\n",
        "    data = yf.Ticker(symbol)\n",
        "    info = data.info\n",
        "    #print(info)\n",
        "    # Get stock price and change\n",
        "    current_price = info['currentPrice']\n",
        "    previous_close = info['regularMarketPreviousClose']\n",
        "    price_change = round((current_price - previous_close) / previous_close * 100, 2)\n",
        "    if price_change > 0:\n",
        "        price_change = f'+{price_change}%'\n",
        "    else:\n",
        "        price_change = f'{price_change}%'\n",
        "        \n",
        "    # Get company data\n",
        "    company_name = info['shortName']\n",
        "    company_exchange = info['exchange']\n",
        "    currency = info['financialCurrency']\n",
        "    industry = info['industry']\n",
        "    website = info['website']\n",
        "    description = info['longBusinessSummary']\n",
        "    \n",
        "    # Accessing specific financial factors\n",
        "    market_cap = info['marketCap']\n",
        "    price_to_sales = info['priceToSalesTrailing12Months']\n",
        "    trailing_pe = info['trailingPE']\n",
        "    forward_pe = info['forwardPE']\n",
        "    profit_margins = info['profitMargins']\n",
        "    fifty_day_average = info['fiftyDayAverage']\n",
        "    two_hundred_day_average = info['twoHundredDayAverage']\n",
        "    book_value = info['bookValue']\n",
        "    earnings_quarterly_growth = info['earningsQuarterlyGrowth']\n",
        "    net_income_to_common = info['netIncomeToCommon']\n",
        "    trailing_eps = info['trailingEps']\n",
        "    forward_eps = info['forwardEps']\n",
        "    peg_ratio = info['pegRatio']\n",
        "    total_cash = info['totalCash']\n",
        "    total_debt = info['totalDebt']\n",
        "    total_revenue = info['totalRevenue']\n",
        "    gross_profits = info['grossProfits']\n",
        "    free_cashflow = info['freeCashflow']\n",
        "    operating_cashflow = info['operatingCashflow']\n",
        "    earnings_growth = info['earningsGrowth']\n",
        "    revenue_growth = info['revenueGrowth']\n",
        "    gross_margins = info['grossMargins']\n",
        "    ebitda_margins = info['ebitdaMargins']\n",
        "    operating_margins = info['operatingMargins']\n",
        "    return_on_assets = info['returnOnAssets']\n",
        "    return_on_equity = info['returnOnEquity']\n",
        "\n",
        "    # Return data as dictionary\n",
        "    data_dict = {\n",
        "    'symbol': symbol,\n",
        "    'current_price': current_price,\n",
        "    'price_change': price_change,\n",
        "    'company_name': company_name,\n",
        "    'company_exchange': company_exchange,\n",
        "    'currency': currency,\n",
        "    'industry': industry,\n",
        "    'description': description,\n",
        "    'website': website,\n",
        "    'market_cap': market_cap,\n",
        "    'price_to_sales': price_to_sales,\n",
        "    'trailing_pe': trailing_pe,\n",
        "    'forward_pe': forward_pe,\n",
        "    'profit_margins': profit_margins,\n",
        "    'fifty_day_average': fifty_day_average,\n",
        "    'two_hundred_day_average': two_hundred_day_average,\n",
        "    'book_value': book_value,\n",
        "    'earnings_quarterly_growth': earnings_quarterly_growth,\n",
        "    'net_income_to_common': net_income_to_common,\n",
        "    'trailing_eps': trailing_eps,\n",
        "    'forward_eps': forward_eps,\n",
        "    'peg_ratio': peg_ratio,\n",
        "    'total_cash': total_cash,\n",
        "    'total_debt': total_debt,\n",
        "    'total_revenue': total_revenue,\n",
        "    'gross_profits': gross_profits,\n",
        "    'free_cashflow': free_cashflow,\n",
        "    'operating_cashflow': operating_cashflow,\n",
        "    'earnings_growth': earnings_growth,\n",
        "    'revenue_growth': revenue_growth,\n",
        "    'gross_margins': gross_margins,\n",
        "    'ebitda_margins': ebitda_margins,\n",
        "    'operating_margins': operating_margins,\n",
        "    'return_on_assets': return_on_assets,\n",
        "    'return_on_equity': return_on_equity\n",
        "}\n",
        "  \n",
        "    \n",
        "    return data_dict\n",
        "\n",
        "\n",
        "data=yf_Scraper(\"GOOG\")\n",
        "print(data)"
      ]
    },
    {
      "cell_type": "code",
      "execution_count": 16,
      "metadata": {},
      "outputs": [
        {
          "data": {
            "text/plain": [
              "{'status': 'ok',\n",
              " 'totalResults': 70,\n",
              " 'articles': [{'source': {'id': None, 'name': 'Gizmodo.com'},\n",
              "   'author': 'Dan Ackerman',\n",
              "   'title': 'Early Amazon Prime Day Deals You Can Get Right Now - Gizmodo',\n",
              "   'description': 'No need to wait for July 11-12, some Prime Day bargains are already available.',\n",
              "   'url': 'https://gizmodo.com/early-amazon-prime-day-deals-you-can-get-right-now-1850571454',\n",
              "   'urlToImage': 'https://i.kinja-img.com/gawker-media/image/upload/c_fill,f_auto,fl_progressive,g_center,h_675,pg_1,q_80,w_1200/105cae5aaa460d1d39eb67a2a4f50d8f.png',\n",
              "   'publishedAt': '2023-06-25T11:00:00Z',\n",
              "   'content': 'The annual Amazon Prime Day event runs from July 11-12, but many of the best deals are already available, if youre an Amazon Prime member.\\r\\nAmazon Prime Day was created for one reason, to get people … [+2938 chars]'},\n",
              "  {'source': {'id': None, 'name': 'Finbold.com'},\n",
              "   'author': 'Justinas Baltrusaitis',\n",
              "   'title': \"Bitcoin price hits 1-year high; Here's a buy zone if correction occurs - Finbold - Finance in Bold\",\n",
              "   'description': 'The price of Bitcoin surged to over $31,400 on Friday, reaching its highest level since 2022, fueled by growing institutional interest.',\n",
              "   'url': 'https://finbold.com/bitcoin-price-hits-1-year-high-heres-a-buy-zone-if-correction-occurs/',\n",
              "   'urlToImage': 'https://finbold.com/app/uploads/2023/06/Bitcoin-price-hits-1-year-high-Heres-a-buy-zone-if-correction-occurs.jpg',\n",
              "   'publishedAt': '2023-06-25T10:17:37Z',\n",
              "   'content': 'The price of Bitcoin (BTC) surged to over $31,400 on Friday, reaching its highest level since 2022, fueled by growing institutional interest in the maiden cryptocurrency.\\r\\nAlthough Bitcoin briefly re… [+2958 chars]'},\n",
              "  {'source': {'id': 'cnn', 'name': 'CNN'},\n",
              "   'author': 'Elisabeth Buchwald',\n",
              "   'title': 'Why some central banks are rushing to hike rates now - CNN',\n",
              "   'description': 'Central bankers across the globe are delivering a message: Slow and steady won’t win the race against inflation.',\n",
              "   'url': 'https://www.cnn.com/2023/06/25/business/central-banks-inflation-rate-hikes/index.html',\n",
              "   'urlToImage': 'https://media.cnn.com/api/v1/images/stellar/prod/230622153142-bank-of-england-0621-restricted.jpg?c=16x9&q=w_800,c_fill',\n",
              "   'publishedAt': '2023-06-25T09:02:00Z',\n",
              "   'content': 'Central bankers across the globe are delivering a message: Slow and steady wont win the race against inflation.\\r\\nIf we dont raise rates now, high inflation can stay with us for longer, Bank of Englan… [+3357 chars]'},\n",
              "  {'source': {'id': 'the-wall-street-journal',\n",
              "    'name': 'The Wall Street Journal'},\n",
              "   'author': 'Nick Timiraos, Tom Fairless',\n",
              "   'title': \"Why Economies Haven't Slowed More Since Central Banks Hit the Brakes - The Wall Street Journal\",\n",
              "   'description': 'Pandemic effects and government aid are blunting impact of higher rates, for now',\n",
              "   'url': 'https://www.wsj.com/articles/why-economies-havent-slowed-more-since-central-banks-hit-the-brakes-d5103ec7',\n",
              "   'urlToImage': 'https://images.wsj.net/im-806015/social',\n",
              "   'publishedAt': '2023-06-25T09:00:00Z',\n",
              "   'content': None},\n",
              "  {'source': {'id': None, 'name': 'Fox Business'},\n",
              "   'author': 'Ken Martin',\n",
              "   'title': 'States weigh charging by the mile as fuel taxes plummet - Fox Business',\n",
              "   'description': 'States are experimenting with charging drivers by the mile instead of relying on declining gas tax revenue as electric vehicle sales rise.',\n",
              "   'url': 'https://www.foxbusiness.com/politics/states-weigh-charging-by-the-mile-as-fuel-taxes-plummet',\n",
              "   'urlToImage': 'https://a57.foxnews.com/static.foxbusiness.com/foxbusiness.com/content/uploads/2023/06/0/0/Measuring-Mileage-A.jpg?ve=1&tl=1',\n",
              "   'publishedAt': '2023-06-25T08:33:15Z',\n",
              "   'content': \"States are looking for ways to keep the funds coming in order to maintain the nation's roads.\\r\\nGas taxes have been used for more than a century for the purpose.\\r\\nThe problem that has developed is tho… [+2744 chars]\"},\n",
              "  {'source': {'id': None, 'name': 'Wccftech'},\n",
              "   'author': 'Muhammad Zuhair Haider Zaidi',\n",
              "   'title': 'Intel Successfully Completes Aurora Supercomputer Installation: Over 63K Xeon GPU Max & 21K Xeon CPU Max Chips - Wccftech',\n",
              "   'description': 'Intel & ARNL announce the successful blade installation in the Aurora supercomputer, making it one step closer to full functionality.',\n",
              "   'url': 'https://wccftech.com/intel-successfully-completes-aurora-supercomputer-installation-over-63k-xeon-gpu-max-21k-xeon-cpu-max-chips/',\n",
              "   'urlToImage': 'https://cdn.wccftech.com/wp-content/uploads/2023/05/Intel-Aurora-Sunspot-Racks-728x486.jpg',\n",
              "   'publishedAt': '2023-06-25T06:00:00Z',\n",
              "   'content': 'Intel &amp; Argonne National Laboratory announces the successful blade installation in the Aurora supercomputer, making it one step closer to full functionality.\\r\\nThe Aurora supercomputer has been th… [+2893 chars]'},\n",
              "  {'source': {'id': 'the-wall-street-journal',\n",
              "    'name': 'The Wall Street Journal'},\n",
              "   'author': 'Sam Goldfarb',\n",
              "   'title': 'Junk-Rated Companies Accept Tougher Terms to Borrow - The Wall Street Journal',\n",
              "   'description': 'Investors are often getting greater protections in the form of collateral',\n",
              "   'url': 'https://www.wsj.com/articles/junk-rated-companies-accept-tougher-terms-to-borrow-168f8baf',\n",
              "   'urlToImage': 'https://images.wsj.net/im-805910/social',\n",
              "   'publishedAt': '2023-06-25T04:01:00Z',\n",
              "   'content': None},\n",
              "  {'source': {'id': 'the-wall-street-journal',\n",
              "    'name': 'The Wall Street Journal'},\n",
              "   'author': 'Peter Loftus',\n",
              "   'title': 'No More Shots: Pill Versions of Ozempic-Like Drugs Are Coming - The Wall Street Journal',\n",
              "   'description': 'Tablets could appeal to people who want to lose weight but despise needles',\n",
              "   'url': 'https://www.wsj.com/articles/no-more-shots-pill-versions-of-ozempic-like-drugs-are-coming-ca286ca2',\n",
              "   'urlToImage': 'https://images.wsj.net/im-805956/social',\n",
              "   'publishedAt': '2023-06-25T04:01:00Z',\n",
              "   'content': None},\n",
              "  {'source': {'id': 'the-wall-street-journal',\n",
              "    'name': 'The Wall Street Journal'},\n",
              "   'author': 'Elaine Yu, Yoko Kubota',\n",
              "   'title': 'Companies Try New Strategy to Stay in China: Siloing - The Wall Street Journal',\n",
              "   'description': 'As tensions rise between Washington and Beijing, firms seek to wall off China businesses',\n",
              "   'url': 'https://www.wsj.com/articles/companies-try-new-strategy-to-stay-in-china-siloing-61c88721',\n",
              "   'urlToImage': 'https://images.wsj.net/im-805376/social',\n",
              "   'publishedAt': '2023-06-25T04:01:00Z',\n",
              "   'content': None},\n",
              "  {'source': {'id': 'financial-times', 'name': 'Financial Times'},\n",
              "   'author': 'Joshua Chaffin, Joshua Oliver',\n",
              "   'title': 'Financial storm bears down on US commercial real estate - Financial Times',\n",
              "   'description': 'Long-awaiting reckoning arrives as building loans come due at time of scarcer credit',\n",
              "   'url': 'https://www.ft.com/content/658d937f-f804-4656-a9d8-428b9c2c917d',\n",
              "   'urlToImage': 'https://www.ft.com/__origami/service/image/v2/images/raw/https%3A%2F%2Fd1e00ek4ebabms.cloudfront.net%2Fproduction%2F34be2562-bcba-4af9-92c4-60ae9ea927d7.jpg?source=next-opengraph&fit=scale-down&width=900',\n",
              "   'publishedAt': '2023-06-25T04:00:56Z',\n",
              "   'content': 'The 20-storey tower at 529 Fifth Avenue stands out from the other buildings around Grand Central Station for the surreal pink designs of an Alice in Wonderland-inspired art exhibit installed to fill … [+6070 chars]'},\n",
              "  {'source': {'id': None, 'name': 'Beatofhawaii.com'},\n",
              "   'author': 'Beat of Hawaii',\n",
              "   'title': 'Costco Hawaii Items: The Hits And Flops With Visitors - Beat of Hawaii',\n",
              "   'description': \"So here's a list of things we highly recommend you look for and some flops you may want to avoid on your Hawaii vacation.\",\n",
              "   'url': 'https://beatofhawaii.com/costco-hawaii-items-the-hits-and-flops-with-visitors/',\n",
              "   'urlToImage': 'https://beatofhawaii.com/wp-content/uploads/2023/06/PSX_20230624_113951.jpg',\n",
              "   'publishedAt': '2023-06-24T23:49:17Z',\n",
              "   'content': 'Hawaii Costco stores are as popular with visitors as they are for those of us who live here. We’re told by management that one-third of all Costco Hawaii sales are to visitors.\\r\\nSo here’s a list of t… [+6593 chars]'},\n",
              "  {'source': {'id': None, 'name': 'Newsnationnow.com'},\n",
              "   'author': 'Marc Sternfield',\n",
              "   'title': 'California no longer has the most expensive gas in the nation - NewsNation Now',\n",
              "   'description': 'California drivers may not take much comfort in this news, but the Golden State no longer has the most expensive gasoline in the United States.',\n",
              "   'url': 'https://www.newsnationnow.com/business/your-money/california-no-longer-has-the-most-expensive-gas-in-the-nation/',\n",
              "   'urlToImage': 'https://www.newsnationnow.com/wp-content/uploads/sites/108/2023/06/gas-prices-2.jpg?w=1280',\n",
              "   'publishedAt': '2023-06-24T22:07:32Z',\n",
              "   'content': '(KTLA) California drivers may not take much comfort in this news, but the Golden State no longer has the most expensive gasoline in the United States.\\r\\nOver the past week, the average cost of regular… [+1120 chars]'},\n",
              "  {'source': {'id': None, 'name': 'Newser'},\n",
              "   'author': 'John Johnson',\n",
              "   'title': \"It's a Vast, Vital Side of AI Hidden From the Public - Newser\",\n",
              "   'description': \"Josh Dzieza at 'New York' explores the incredible amount of human labor needed to make artificial intelligence models work\",\n",
              "   'url': 'https://www.newser.com/story/336796/its-a-vast-vital-side-of-ai-hidden-from-the-public.html',\n",
              "   'urlToImage': 'https://img1-azrcdn.newser.com/image/1478932-12-20230624175610.jpeg',\n",
              "   'publishedAt': '2023-06-24T21:50:00Z',\n",
              "   'content': 'Of all the stories about artificial intelligence that have emerged of late, a new one from Josh Dzieza in a collaboration for New York and the Verge is equal parts compelling and surprising. He explo… [+1529 chars]'},\n",
              "  {'source': {'id': 'business-insider', 'name': 'Business Insider'},\n",
              "   'author': 'John L. Dorman',\n",
              "   'title': \"In 1990, Tom Stuker bought a lifetime pass from United Airlines for $290,000. He has since flown 23 million miles and calls the purchase the 'best investment' of his life. - Yahoo News\",\n",
              "   'description': \"Stuker said he knew early on that frequent-flier miles weren't just a way to get more flights; he also ended up selling and trading miles with others.\",\n",
              "   'url': 'https://www.businessinsider.com/united-airlines-1990-lifetime-pass-tom-stuker-frequent-flier-2023-6',\n",
              "   'urlToImage': 'https://s.yimg.com/ny/api/res/1.2/OVF.uDmY38NxTJVJD5UzTA--/YXBwaWQ9aGlnaGxhbmRlcjt3PTEyMDA7aD05MDA-/https://media.zenfs.com/en/business_insider_articles_888/68193e4b264e01560236b0128411198c',\n",
              "   'publishedAt': '2023-06-24T21:25:06Z',\n",
              "   'content': 'United Airlines Boeing wide body 777-200 aircraft.Nicolas Economou/NurPhoto via Getty Images\\r\\n<ul><li>In 1990, Tom Stuker bought a United Airlines lifetime pass. He has since flown 23 million miles.\\r… [+2242 chars]'},\n",
              "  {'source': {'id': None, 'name': 'nejm.org'},\n",
              "   'author': 'nejm.org',\n",
              "   'title': 'Weekly Icodec versus Daily Glargine U100 in Type 2 Diabetes without Previous Insulin | NEJM - nejm.org',\n",
              "   'description': None,\n",
              "   'url': 'https://www.nejm.org/doi/pdf/10.1056/NEJMoa2303208',\n",
              "   'urlToImage': None,\n",
              "   'publishedAt': '2023-06-24T21:15:35Z',\n",
              "   'content': None},\n",
              "  {'source': {'id': None, 'name': 'Barchart.com'},\n",
              "   'author': 'David Koenig',\n",
              "   'title': \"Want A Climate-Friendly Flight? It's Going To Take A While And Cost You More - Barchart\",\n",
              "   'description': 'Airlines are facing increasing pressure to cut their climate-changing emissions',\n",
              "   'url': 'https://www.barchart.com/story/news/17984452/want-a-climate-friendly-flight-its-going-to-take-a-while-and-cost-you-more',\n",
              "   'urlToImage': 'https://barchart-news-media-prod.aws.barchart.com/ap/3277e0ef9b6540199f2aaf50153ae86b/3277e0ef9b6540199f2aaf50153ae86b_main_airlines_sustainable_fuel_12641.jpg',\n",
              "   'publishedAt': '2023-06-24T20:34:00Z',\n",
              "   'content': 'Stocks: 1520 minute delay (Cboe BZX is real-time), ET. Volume reflects consolidated markets. Futures and Forex: 10 or 15 minute delay, CT. Market Data powered by Barchart Solutions. Fundamental data … [+33 chars]'},\n",
              "  {'source': {'id': 'bloomberg', 'name': 'Bloomberg'},\n",
              "   'author': None,\n",
              "   'title': 'Powell Wins Over Bond Traders Dialing Back Bets on Deep Downturn - Bloomberg',\n",
              "   'description': None,\n",
              "   'url': 'https://www.bloomberg.com/news/articles/2023-06-24/powell-wins-over-bond-traders-dialing-back-bets-on-deep-downturn',\n",
              "   'urlToImage': None,\n",
              "   'publishedAt': '2023-06-24T20:00:00Z',\n",
              "   'content': \"To continue, please click the box below to let us know you're not a robot.\"},\n",
              "  {'source': {'id': None, 'name': 'WPVI-TV'},\n",
              "   'author': None,\n",
              "   'title': 'Dozens of frozen fruit products sold at 6 major retailers recalled by FDA - WPVI-TV',\n",
              "   'description': 'In the recall notice, SunOpta and the FDA urged consumers to check their freezers for the recalled product and to not consume it, but rather discard the product or return it to the store for a full refund.',\n",
              "   'url': 'https://6abc.com/frozen-fruit-recall-2023-good--gather-sunrise-growers/13422574/',\n",
              "   'urlToImage': 'https://cdn.abcotvs.com/dip/images/13422572_062423-wpvi-frozen-fruit-recall-5pm-CC-vid.jpg?w=1600',\n",
              "   'publishedAt': '2023-06-24T19:36:28Z',\n",
              "   'content': \"Frozen fruit products distributed to Walmart, Whole Foods, Trader Joe's, Target, Aldi and AWG stores in over 30 states have been voluntarily recalled due to possible Listeria monocytogenes contaminat… [+3748 chars]\"},\n",
              "  {'source': {'id': 'usa-today', 'name': 'USA Today'},\n",
              "   'author': 'Nolan King',\n",
              "   'title': 'Elon Musk vs. Mark Zuckerberg: MMA community reacts, take sides in pitched billionaire fight - MMA Junkie',\n",
              "   'description': 'Jon Jones, Georges St-Pierre, dozens of others in the MMA community weigh in on a potential Elon Musk vs. Mark Zuckerberg fight.',\n",
              "   'url': 'https://mmajunkie.usatoday.com/lists/elon-musk-vs-mark-zuckerberg-fighters-react-ufc-jon-jones-dana-white-mma',\n",
              "   'urlToImage': 'https://mmajunkie.usatoday.com/wp-content/uploads/sites/91/2023/06/Elon-Musk-vs.-Mark-Zuckerberg.png?w=1000&h=576&crop=1',\n",
              "   'publishedAt': '2023-06-24T19:30:00Z',\n",
              "   'content': 'Elon Musk vs. Mark Zuckerberg may or may not ever actually throw down inside a cage, but a proposed fight between the two caused quite a stir on social media over the past week.\\r\\nAfter Musk said he w… [+4189 chars]'},\n",
              "  {'source': {'id': None, 'name': 'San Antonio Express-News'},\n",
              "   'author': 'Gabriella Ybarra',\n",
              "   'title': 'Accident at San Antonio airport results in death of airline crew member - San Antonio Express-News',\n",
              "   'description': 'The fatal accident occurred on the ground, the airport said in a early Saturday morning news release.',\n",
              "   'url': 'https://www.expressnews.com/news/article/san-antonio-airport-death-18168822.php',\n",
              "   'urlToImage': 'https://s.hdnux.com/photos/01/33/34/14/23970615/6/rawImage.jpg',\n",
              "   'publishedAt': '2023-06-24T19:18:45Z',\n",
              "   'content': 'San Antonio International Airport said an airline ground crew member died in an accident Friday evening.\\xa0The accident occurred on the ground, the airport said in a news release early Saturday morning… [+1292 chars]'}]}"
            ]
          },
          "execution_count": 16,
          "metadata": {},
          "output_type": "execute_result"
        }
      ],
      "source": [
        "import requests\n",
        "def LastNews(stocks):\n",
        "    api_key = 'd0feca09487f4619b994283a1004d7ba' \n",
        " \n",
        "    # API endpoint URL\n",
        "    url = f\"https://newsapi.org/v2/top-headlines?country=us&category=business&apiKey={api_key}\"\n",
        " \n",
        "    # Send the HTTP GET request to the API endpoint\n",
        "    response = requests.get(url)\n",
        "    \n",
        "    # Retrieve the JSON response\n",
        "    json_data = response.json()\n",
        "    \n",
        "    return json_data\n",
        "\n",
        "LastNews(stocks = ['AAPL'])"
      ]
    },
    {
      "cell_type": "code",
      "execution_count": null,
      "metadata": {},
      "outputs": [],
      "source": []
    }
  ],
  "metadata": {
    "colab": {
      "authorship_tag": "ABX9TyPJP5QuAgsxTHCIrBL04A/v",
      "include_colab_link": true,
      "provenance": []
    },
    "kernelspec": {
      "display_name": "Python 3",
      "name": "python3"
    },
    "language_info": {
      "codemirror_mode": {
        "name": "ipython",
        "version": 3
      },
      "file_extension": ".py",
      "mimetype": "text/x-python",
      "name": "python",
      "nbconvert_exporter": "python",
      "pygments_lexer": "ipython3",
      "version": "3.9.16"
    }
  },
  "nbformat": 4,
  "nbformat_minor": 0
}
